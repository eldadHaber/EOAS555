{
  "nbformat": 4,
  "nbformat_minor": 0,
  "metadata": {
    "colab": {
      "name": "diffusionReaction.ipynb",
      "provenance": [],
      "authorship_tag": "ABX9TyNuH4ZMd9AXCD3xbJiSvOqn",
      "include_colab_link": true
    },
    "kernelspec": {
      "name": "python3",
      "display_name": "Python 3"
    },
    "language_info": {
      "name": "python"
    }
  },
  "cells": [
    {
      "cell_type": "markdown",
      "metadata": {
        "id": "view-in-github",
        "colab_type": "text"
      },
      "source": [
        "<a href=\"https://colab.research.google.com/github/eldadHaber/EOAS555/blob/main/diffusionReaction.ipynb\" target=\"_parent\"><img src=\"https://colab.research.google.com/assets/colab-badge.svg\" alt=\"Open In Colab\"/></a>"
      ]
    },
    {
      "cell_type": "code",
      "metadata": {
        "id": "ARbACOhTdTnb"
      },
      "source": [
        "import numpy as np\n",
        "from scipy import sparse\n",
        "from scipy.sparse import coo_matrix\n",
        "import matplotlib.pyplot as plt\n",
        "import torch\n",
        "import torch.nn as nn\n",
        "import torch.nn.functional as F\n",
        "import torch.optim as optim\n",
        "\n"
      ],
      "execution_count": null,
      "outputs": []
    },
    {
      "cell_type": "code",
      "metadata": {
        "id": "cxZ6umdReXlV"
      },
      "source": [
        "def getGradientMatrix(nx, ny):\n",
        "\n",
        "    e, e_neg = -np.ones(nx), np.ones(nx)\n",
        "    #e_neg[-1] = 0\n",
        "    Dx1D = sparse.spdiags([e, e_neg], [0, 1], nx-1, nx)\n",
        "    e, e_neg = -np.ones(ny), np.ones(ny)\n",
        "    #e_neg[-1] = 0\n",
        "    Dy1D = sparse.spdiags([e, e_neg], [0, 1], ny-1, ny)\n",
        "    Dx = sparse.kron(sparse.eye(ny), Dx1D)\n",
        "    Dy = sparse.kron(Dy1D, sparse.eye(nx))\n",
        "    D = sparse.vstack([Dx, Dy])\n",
        "    return D, Dx, Dy"
      ],
      "execution_count": null,
      "outputs": []
    },
    {
      "cell_type": "code",
      "metadata": {
        "id": "NR4tgPraehax"
      },
      "source": [
        "nx = 128; ny = 129\n",
        "G, Dx, Dy = getGradientMatrix(nx, ny)\n"
      ],
      "execution_count": null,
      "outputs": []
    },
    {
      "cell_type": "code",
      "metadata": {
        "id": "XkR1Mt-XfK8T"
      },
      "source": [
        "def getWeightedLap(Sigma):\n",
        "\n",
        "    Sigma = Sigma.numpy()\n",
        "    nx, ny = Sigma.shape\n",
        "    SigmaX = (Sigma[1:,:] + Sigma[:-1,:])/2\n",
        "    SigmaY = (Sigma[:,1:] + Sigma[:,:-1])/2\n",
        "    SigmaF = np.hstack((SigmaX.reshape((nx-1)*ny),SigmaY.reshape((ny-1)*nx)))\n",
        "    D, Dx, Dy = getGradientMatrix(nx, ny)\n",
        "    SigmaMat = sparse.spdiags(SigmaF, 0, (nx-1)*ny + (ny-1)*nx, (nx-1)*ny + (ny-1)*nx )\n",
        "\n",
        "    A = D.T @ SigmaMat @ D\n",
        "\n",
        "    # Convert to pytorch\n",
        "    As = sparse.coo_matrix(A, dtype=sparse.coo_matrix)\n",
        "\n",
        "    values = As.data\n",
        "    indices = np.vstack((As.row, As.col))\n",
        "\n",
        "    i = torch.LongTensor(indices)\n",
        "    v = torch.FloatTensor(values.tolist())\n",
        "    sh = As.shape\n",
        "\n",
        "    Atrch = torch.sparse.FloatTensor(i, v, torch.Size(sh))\n",
        "\n",
        "    return Atrch\n",
        "\n"
      ],
      "execution_count": null,
      "outputs": []
    },
    {
      "cell_type": "code",
      "metadata": {
        "colab": {
          "base_uri": "https://localhost:8080/"
        },
        "id": "i5yXZcs-fMIG",
        "outputId": "d0bb2658-7bf4-459f-ed26-a2762c867e91"
      },
      "source": [
        "Sigma = torch.rand(256,257)\n",
        "A = getWeightedLap(Sigma)\n",
        "\n",
        "#plt.imshow(A.to_dense())\n",
        "print(A.shape)"
      ],
      "execution_count": null,
      "outputs": [
        {
          "output_type": "stream",
          "name": "stdout",
          "text": [
            "torch.Size([65792, 65792])\n"
          ]
        }
      ]
    },
    {
      "cell_type": "code",
      "metadata": {
        "id": "i6YzjMR0if6R"
      },
      "source": [
        "def pcgsol(x, A, b, gamma, iter=100, tol=1e-3):\n",
        "    # Solve \n",
        "    # (1/gamma*A + I)*x = b\n",
        "\n",
        "    r = b  - (A @ x) / gamma - x\n",
        "    p = r.clone()\n",
        "\n",
        "    normr0 = r.norm()\n",
        "\n",
        "    for i in range(iter):\n",
        "\n",
        "        Ap = (A @ p) / gamma + p\n",
        "        alpha = torch.sum(r ** 2) / torch.sum(p * Ap)\n",
        "        x = x + alpha * p\n",
        "        rnew = b  - (A @ x) / gamma - x # can be replaced with r - alpha*Ap\n",
        "        beta = torch.sum(rnew ** 2) / torch.sum(r ** 2)\n",
        "        r = rnew.clone()\n",
        "        p = r + beta * p\n",
        "\n",
        "        if r.norm() / normr0 < tol:\n",
        "            return x\n",
        "\n",
        "        print('iter = %2d   residual = %3.2e'%(i,r.norm()/normr0));\n",
        "    return x"
      ],
      "execution_count": null,
      "outputs": []
    },
    {
      "cell_type": "code",
      "metadata": {
        "colab": {
          "base_uri": "https://localhost:8080/"
        },
        "id": "DDvn_gC1mx7g",
        "outputId": "b71fa90c-7f5a-40d7-d728-72987e094ca8"
      },
      "source": [
        "b = torch.randn(65792,1)\n",
        "x = torch.randn(65792,1)\n",
        "x = pcgsol(x, A, b, 1e1,iter=100, tol=1e-3)\n",
        "\n"
      ],
      "execution_count": null,
      "outputs": [
        {
          "output_type": "stream",
          "name": "stdout",
          "text": [
            "iter =  0   residual = 9.67e-02\n",
            "iter =  1   residual = 1.01e-02\n",
            "iter =  2   residual = 1.04e-03\n"
          ]
        }
      ]
    },
    {
      "cell_type": "code",
      "metadata": {
        "colab": {
          "base_uri": "https://localhost:8080/"
        },
        "id": "XX8f1OXoo3ep",
        "outputId": "ec5004f2-bbc9-410e-c0c8-57cedba8a98e"
      },
      "source": [
        "x"
      ],
      "execution_count": null,
      "outputs": [
        {
          "output_type": "execute_result",
          "data": {
            "text/plain": [
              "tensor([[-0.0319],\n",
              "        [-0.0645],\n",
              "        [-0.0265],\n",
              "        ...,\n",
              "        [-0.0508],\n",
              "        [-0.1061],\n",
              "        [ 0.0223]])"
            ]
          },
          "metadata": {},
          "execution_count": 19
        }
      ]
    },
    {
      "cell_type": "code",
      "metadata": {
        "id": "6xwdtOvdpPtH"
      },
      "source": [
        ""
      ],
      "execution_count": null,
      "outputs": []
    }
  ]
}