{
  "nbformat": 4,
  "nbformat_minor": 0,
  "metadata": {
    "colab": {
      "name": "eoas55-sep-21.ipynb",
      "provenance": [],
      "authorship_tag": "ABX9TyMVkKbOF83esclOwLJrHO9T",
      "include_colab_link": true
    },
    "kernelspec": {
      "name": "python3",
      "display_name": "Python 3"
    },
    "language_info": {
      "name": "python"
    }
  },
  "cells": [
    {
      "cell_type": "markdown",
      "metadata": {
        "id": "view-in-github",
        "colab_type": "text"
      },
      "source": [
        "<a href=\"https://colab.research.google.com/github/eldadHaber/EOAS555/blob/main/eoas55_sep_21.ipynb\" target=\"_parent\"><img src=\"https://colab.research.google.com/assets/colab-badge.svg\" alt=\"Open In Colab\"/></a>"
      ]
    },
    {
      "cell_type": "code",
      "metadata": {
        "id": "4klme8InNpw3"
      },
      "source": [
        "import torch\n",
        "import matplotlib.pyplot as plt\n",
        "\n",
        "#import torch.nn as nn\n",
        "#import torch.nn.functional as F\n",
        "#import torch.optim as optim"
      ],
      "execution_count": null,
      "outputs": []
    },
    {
      "cell_type": "code",
      "metadata": {
        "id": "KOlMuagjOgl2"
      },
      "source": [
        "def dudt(u,h):\n",
        "  # u = [u(0), u(h), u(2*h) ....]\n",
        "  # u is an n vector\n",
        "  v = (u[1:] - u[:-1])/h\n",
        "  return v"
      ],
      "execution_count": null,
      "outputs": []
    },
    {
      "cell_type": "code",
      "metadata": {
        "id": "lh09Bo_YPORR",
        "colab": {
          "base_uri": "https://localhost:8080/"
        },
        "outputId": "412cceb8-7577-48aa-d0fa-a6de59fc9114"
      },
      "source": [
        "# test\n",
        "# get a grid\n",
        "pi = 3.1415926535\n",
        "for j in range(8):\n",
        "  n = 2**(3+j)\n",
        "  x = torch.linspace(0,1,n+1)\n",
        "  u = torch.sin(2*pi*x)\n",
        "  up = 2*pi*torch.cos(2*pi*x)\n",
        "\n",
        "  h = x[1] - x[0]\n",
        "  upc = dudt(u,h)\n",
        "\n",
        "  r = (up[:-1] - upc).norm()/torch.sqrt(torch.tensor([n]))\n",
        "  print(j, h.item(), r.item())\n",
        "#plt.plot(x,up)\n",
        "#plt.plot(x[:-1],upc)\n",
        "\n"
      ],
      "execution_count": null,
      "outputs": [
        {
          "output_type": "stream",
          "name": "stdout",
          "text": [
            "0 0.125 1.7150253057479858\n",
            "1 0.0625 0.8686274290084839\n",
            "2 0.03125 0.4357120096683502\n",
            "3 0.015625 0.21803104877471924\n",
            "4 0.0078125 0.10903740674257278\n",
            "5 0.00390625 0.054521430283784866\n",
            "6 0.001953125 0.02726108767092228\n",
            "7 0.0009765625 0.013630666770040989\n"
          ]
        }
      ]
    },
    {
      "cell_type": "code",
      "metadata": {
        "colab": {
          "base_uri": "https://localhost:8080/"
        },
        "id": "rE73LPFkAYbw",
        "outputId": "f4674e28-0c13-49d5-a91e-75cd0b168978"
      },
      "source": [
        "# test\n",
        "# get a grid\n",
        "pi = 3.1415926535\n",
        "for j in range(8):\n",
        "  n = 2**(3+j)\n",
        "  x = torch.linspace(0,1,n+1)\n",
        "  h = x[1] - x[0]\n",
        "\n",
        "  xc = torch.linspace(h/2,1-h/2,n)\n",
        "\n",
        "  u = torch.sin(2*pi*x)\n",
        "  up = 2*pi*torch.cos(2*pi*xc)\n",
        "\n",
        "  \n",
        "  upc = dudt(u,h)\n",
        "\n",
        "  r = (up - upc).norm()/torch.sqrt(torch.tensor([n]))\n",
        "  print(j, h.item(), r.item())\n",
        "#plt.plot(x,up)\n",
        "#plt.plot(x[:-1],upc)\n"
      ],
      "execution_count": null,
      "outputs": [
        {
          "output_type": "stream",
          "name": "stdout",
          "text": [
            "0 0.125 0.11331421881914139\n",
            "1 0.0625 0.028492800891399384\n",
            "2 0.03125 0.007133515086025\n",
            "3 0.015625 0.001784040010534227\n",
            "4 0.0078125 0.0004462140495888889\n",
            "5 0.00390625 0.00011367771367076784\n",
            "6 0.001953125 4.332800017436966e-05\n",
            "7 0.0009765625 5.1524362788768485e-05\n"
          ]
        }
      ]
    },
    {
      "cell_type": "code",
      "metadata": {
        "id": "SGfZESH9ES90"
      },
      "source": [
        "# forward Euler\n",
        "def ForEu(func,h,t,theta, y0,n):\n",
        "  y = y0\n",
        "  Y = torch.zeros(n+1)\n",
        "  Y[0] = y0\n",
        "  for i in range(n):\n",
        "\n",
        "    z = func(y,t,theta)\n",
        "    y = y + h*z\n",
        "    Y[i+1] = y\n",
        "  return Y\n"
      ],
      "execution_count": null,
      "outputs": []
    },
    {
      "cell_type": "code",
      "metadata": {
        "colab": {
          "base_uri": "https://localhost:8080/",
          "height": 283
        },
        "id": "KBWFEs_iGFf_",
        "outputId": "c4fcf9ca-19ae-486a-d706-3b1cbf4ce231"
      },
      "source": [
        "def myfun(y,t,theta):\n",
        "  return -theta*y\n",
        "\n",
        "Y = ForEu(myfun,0.01,[],1.0, 2.0,10)\n",
        "plt.plot(Y)"
      ],
      "execution_count": null,
      "outputs": [
        {
          "output_type": "execute_result",
          "data": {
            "text/plain": [
              "[<matplotlib.lines.Line2D at 0x7f31c2c7df50>]"
            ]
          },
          "metadata": {},
          "execution_count": 18
        },
        {
          "output_type": "display_data",
          "data": {
            "image/png": "[encoded data removed]",
            "text/plain": [
              "<Figure size 432x288 with 1 Axes>"
            ]
          },
          "metadata": {
            "needs_background": "light"
          }
        }
      ]
    },
    {
      "cell_type": "code",
      "metadata": {
        "id": "tkPWDCQyGqGq"
      },
      "source": [
        ""
      ],
      "execution_count": null,
      "outputs": []
    }
  ]
}