{
  "nbformat": 4,
  "nbformat_minor": 0,
  "metadata": {
    "colab": {
      "name": "eoas555-Sep23.ipynb",
      "provenance": [],
      "authorship_tag": "ABX9TyMgOFZ9MhUwhIKpyUHKNTws",
      "include_colab_link": true
    },
    "kernelspec": {
      "name": "python3",
      "display_name": "Python 3"
    },
    "language_info": {
      "name": "python"
    }
  },
  "cells": [
    {
      "cell_type": "markdown",
      "metadata": {
        "id": "view-in-github",
        "colab_type": "text"
      },
      "source": [
        "<a href=\"https://colab.research.google.com/github/eldadHaber/EOAS555/blob/main/eoas555_Sep23.ipynb\" target=\"_parent\"><img src=\"https://colab.research.google.com/assets/colab-badge.svg\" alt=\"Open In Colab\"/></a>"
      ]
    },
    {
      "cell_type": "code",
      "metadata": {
        "id": "xsnvDvsiOgn3"
      },
      "source": [
        "import torch\n",
        "import matplotlib.pyplot as plt\n",
        "\n",
        "#import torch.nn as nn\n",
        "#import torch.nn.functional as F\n",
        "#import torch.optim as optim"
      ],
      "execution_count": null,
      "outputs": []
    },
    {
      "cell_type": "code",
      "metadata": {
        "id": "7HETpxZ-Ou8N"
      },
      "source": [
        "# Solve the system\n",
        "# S_t = - beta*E*S - gamma*I*S\n",
        "# E_t = beta*E*S + gamma*I*S - alpha*E\n",
        "# I_t = alpha*E - mu*I\n",
        "\n",
        "# define y = [S, E, I]; theta = [beta, gamma, alpha, mu]; dy/dt = f(y, theta)\n",
        "\n",
        "def SEIRfun(y, theta):\n",
        "  F = torch.zeros_like(y)\n",
        "  F[0] = -theta[0]*y[1]*y[0] - theta[1]*y[2]*y[0] \n",
        "  F[1] = theta[0]*y[1]*y[0] + theta[1]*y[2]*y[0] - theta[2]*y[1]\n",
        "  F[2] = theta[2]*y[1] - theta[3]*y[2]\n",
        "\n",
        "  return F\n"
      ],
      "execution_count": null,
      "outputs": []
    },
    {
      "cell_type": "code",
      "metadata": {
        "id": "YwkHt4y_RIiE"
      },
      "source": [
        "def forwardEuler(fun, y0, theta, h, n):\n",
        "  k = y0.shape[0]\n",
        "  Y = torch.zeros(k, n+1)\n",
        "  Y[:,0] = y0\n",
        "\n",
        "  for i in range(n):\n",
        "    Y[:,i+1] = Y[:,i] + h*fun(Y[:,i], theta)\n",
        "\n",
        "  return Y\n"
      ],
      "execution_count": null,
      "outputs": []
    },
    {
      "cell_type": "code",
      "metadata": {
        "id": "fbC9I1VmTIuR"
      },
      "source": [
        "beta = 0.8\n",
        "gamma = 0.1\n",
        "alpha = 0.01\n",
        "mu = 0.01\n",
        "theta = torch.tensor([beta, gamma, alpha, mu])\n",
        "S = 0.95\n",
        "E = 0.04\n",
        "I = 0.01\n",
        "y0 = torch.tensor([S,E,I])\n",
        "dt = 0.1\n",
        "n = 1000\n",
        "Y = forwardEuler(SEIRfun, y0, theta, dt, n)\n",
        "\n"
      ],
      "execution_count": null,
      "outputs": []
    },
    {
      "cell_type": "code",
      "metadata": {
        "colab": {
          "base_uri": "https://localhost:8080/",
          "height": 317
        },
        "id": "ZUY1BbUlVHGD",
        "outputId": "0f0fe546-3959-463c-bd05-743da3268d66"
      },
      "source": [
        "t = torch.arange(1001)*dt\n",
        "plt.plot(t,Y[0,:],t,Y[1,:],t,Y[2,:])"
      ],
      "execution_count": null,
      "outputs": [
        {
          "output_type": "execute_result",
          "data": {
            "text/plain": [
              "[<matplotlib.lines.Line2D at 0x7f792cfa2650>,\n",
              " <matplotlib.lines.Line2D at 0x7f792cfa2850>,\n",
              " <matplotlib.lines.Line2D at 0x7f792cfa2a10>]"
            ]
          },
          "metadata": {},
          "execution_count": 15
        },
        {
          "output_type": "display_data",
          "data": {
            "image/png": "[encoded data removed]",
            "text/plain": [
              "<Figure size 432x288 with 1 Axes>"
            ]
          },
          "metadata": {
            "needs_background": "light"
          }
        }
      ]
    },
    {
      "cell_type": "code",
      "metadata": {
        "id": "nXibxZOMVYvV"
      },
      "source": [
        ""
      ],
      "execution_count": null,
      "outputs": []
    }
  ]
}